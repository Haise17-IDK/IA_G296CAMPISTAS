{
 "cells": [
  {
   "cell_type": "code",
   "execution_count": 1,
   "id": "0a87cb88",
   "metadata": {},
   "outputs": [
    {
     "name": "stdout",
     "output_type": "stream",
     "text": [
      "===Ventas===\n",
      "   ID_Tienda    Producto  Cantidad_Vendida  Precio_Unitario Fecha_Venta\n",
      "0          1  Producto A                20              100  2023-01-05\n",
      "1          1  Producto B                15              200  2023-01-06\n",
      "2          2  Producto A                30              100  2023-01-07\n",
      "3          2  Producto C                25              300  2023-01-08\n",
      "4          3  Producto A                10              100  2023-01-09 \n",
      "\n"
     ]
    }
   ],
   "source": [
    "# ==================================\n",
    "# 1️⃣ Importar La Libreria de pandas\n",
    "# ==================================\n",
    "import pandas as pd\n",
    "# ==================================\n",
    "# 2️⃣ Cargar los archivos CSV\n",
    "# ==================================\n",
    "# Usamos pd.read_csv\n",
    "ventas_df =pd.read_csv(\"ventas.csv\")\n",
    "inventarios_df=pd.read_csv(\"inventarios.csv\")\n",
    "satisfaccion_df=pd.read_csv(\"satisfaccion.csv\")\n",
    "# ==========================================\n",
    "# 3️⃣ Mostrar las primeras filas\n",
    "# ==========================================\n",
    "print(\"===Ventas===\")\n",
    "print(ventas_df.head(),\"\\n\")"
   ]
  }
 ],
 "metadata": {
  "kernelspec": {
   "display_name": "env313",
   "language": "python",
   "name": "python3"
  },
  "language_info": {
   "codemirror_mode": {
    "name": "ipython",
    "version": 3
   },
   "file_extension": ".py",
   "mimetype": "text/x-python",
   "name": "python",
   "nbconvert_exporter": "python",
   "pygments_lexer": "ipython3",
   "version": "3.13.6"
  }
 },
 "nbformat": 4,
 "nbformat_minor": 5
}
