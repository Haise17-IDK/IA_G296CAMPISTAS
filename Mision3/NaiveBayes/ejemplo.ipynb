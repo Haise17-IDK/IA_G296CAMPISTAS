{
 "cells": [
  {
   "cell_type": "markdown",
   "id": "2b11847d",
   "metadata": {},
   "source": [
    "# Paso 1 Definir el conjunto de datos"
   ]
  },
  {
   "cell_type": "code",
   "execution_count": 2,
   "id": "9a9a1ab9",
   "metadata": {},
   "outputs": [],
   "source": [
    "# Datos de entrenamiento\n",
    "data = [\n",
    "    (\"Hola\", \"saludo\"),\n",
    "    (\"Buenos días\", \"saludo\"),\n",
    "    (\"Buenas tardes\", \"saludo\"),\n",
    "    (\"¿Cómo estás?\", \"saludo\"),\n",
    "    (\"Quisiera hacer una queja\", \"queja\"),\n",
    "    (\"No estoy satisfecho con el servicio\", \"queja\"),\n",
    "    (\"El producto llegó dañado\", \"queja\"),\n",
    "    (\"Necesito reclamar por un error\", \"reclamo\"),\n",
    "    (\"Quiero hacer un reclamo\", \"reclamo\"),\n",
    "    (\"Esto es inaceptable, quiero una solución\", \"reclamo\"),\n",
    "    (\"Me gustaría pedir información\", \"petición\"),\n",
    "    (\"Necesito saber más detalles sobre el producto\", \"petición\"),\n",
    "    (\"Por favor, envíenme más información\", \"petición\"),\n",
    "    (\"Adiós\", \"despedida\"),\n",
    "    (\"Hasta luego\", \"despedida\"),\n",
    "    (\"Nos vemos\", \"despedida\"),\n",
    "    (\"Chao\", \"despedida\")\n",
    "]\n",
    "#frases y etiquetas\n",
    "phrases,labels=zip(*data)"
   ]
  },
  {
   "cell_type": "markdown",
   "id": "2c4b943c",
   "metadata": {},
   "source": [
    "# Paso 2 Crear un diccionario de palabras y calcular frecuencias"
   ]
  },
  {
   "cell_type": "code",
   "execution_count": 3,
   "id": "73ff9bf8",
   "metadata": {},
   "outputs": [
    {
     "name": "stdout",
     "output_type": "stream",
     "text": [
      "total_words defaultdict(<class 'int'>, {'saludo': 7, 'queja': 14, 'reclamo': 15, 'petición': 16, 'despedida': 6}) total_phrase 17\n",
      "category_freq defaultdict(<class 'int'>, {'saludo': 4, 'queja': 3, 'reclamo': 3, 'petición': 3, 'despedida': 4})\n",
      "word_freq defaultdict(<function <lambda> at 0x000002074FE72CA0>, {'saludo': defaultdict(<class 'int'>, {'hola': 1, 'buenos': 1, 'días': 1, 'buenas': 1, 'tardes': 1, '¿cómo': 1, 'estás?': 1}), 'queja': defaultdict(<class 'int'>, {'quisiera': 1, 'hacer': 1, 'una': 1, 'queja': 1, 'no': 1, 'estoy': 1, 'satisfecho': 1, 'con': 1, 'el': 2, 'servicio': 1, 'producto': 1, 'llegó': 1, 'dañado': 1}), 'reclamo': defaultdict(<class 'int'>, {'necesito': 1, 'reclamar': 1, 'por': 1, 'un': 2, 'error': 1, 'quiero': 2, 'hacer': 1, 'reclamo': 1, 'esto': 1, 'es': 1, 'inaceptable,': 1, 'una': 1, 'solución': 1}), 'petición': defaultdict(<class 'int'>, {'me': 1, 'gustaría': 1, 'pedir': 1, 'información': 2, 'necesito': 1, 'saber': 1, 'más': 2, 'detalles': 1, 'sobre': 1, 'el': 1, 'producto': 1, 'por': 1, 'favor,': 1, 'envíenme': 1}), 'despedida': defaultdict(<class 'int'>, {'adiós': 1, 'hasta': 1, 'luego': 1, 'nos': 1, 'vemos': 1, 'chao': 1})})\n"
     ]
    }
   ],
   "source": [
    "from collections import defaultdict\n",
    "#crear un dicionario para contar palabras por categoría\n",
    "word_freq=defaultdict(lambda:defaultdict(int))##frecuencia de palabras por categoría\n",
    "category_freq=defaultdict(int)# frecuencia de categorías\n",
    "for phrase, label in data:\n",
    "    words= phrase.lower().split()\n",
    "    category_freq[label]+=1\n",
    "    for word in words:\n",
    "        word_freq[label][word]+=1\n",
    "# calcular la frecuencia total de palabras en cada categoía\n",
    "total_words=defaultdict(int)\n",
    "for label in word_freq:\n",
    "    total_words[label]=sum(word_freq[label].values())\n",
    "#Número total de frases\n",
    "total_phrase = len(data)\n",
    "\n",
    "print(f\"total_words {total_words} total_phrase {total_phrase}\")\n",
    "print(f\"category_freq {category_freq}\")\n",
    "print(f\"word_freq {word_freq}\")\n"
   ]
  },
  {
   "cell_type": "markdown",
   "id": "39681460",
   "metadata": {},
   "source": [
    "# paso 3 Implementar el clasificador Naive Bayes"
   ]
  },
  {
   "cell_type": "code",
   "execution_count": null,
   "id": "4c952764",
   "metadata": {},
   "outputs": [],
   "source": [
    "import math\n",
    "def classifi(phrase):\n",
    "    words =phrase.lower().split()\n",
    "    category_scores={}\n",
    "    for category in category_freq:\n",
    "        category_scores[category]=math.log(category_freq[category]/total_phrase)"
   ]
  }
 ],
 "metadata": {
  "kernelspec": {
   "display_name": "Python 3",
   "language": "python",
   "name": "python3"
  },
  "language_info": {
   "codemirror_mode": {
    "name": "ipython",
    "version": 3
   },
   "file_extension": ".py",
   "mimetype": "text/x-python",
   "name": "python",
   "nbconvert_exporter": "python",
   "pygments_lexer": "ipython3",
   "version": "3.13.6"
  }
 },
 "nbformat": 4,
 "nbformat_minor": 5
}
